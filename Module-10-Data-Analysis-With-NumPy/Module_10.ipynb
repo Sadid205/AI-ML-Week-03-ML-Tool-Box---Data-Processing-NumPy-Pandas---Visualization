{
 "cells": [
  {
   "cell_type": "code",
   "execution_count": 1,
   "id": "5b07d63c-3909-47c1-95ea-3ca03f0a723d",
   "metadata": {},
   "outputs": [
    {
     "name": "stdout",
     "output_type": "stream",
     "text": [
      "[1, 2, 3, 1, 2, 3, 1, 2, 3, 1, 2, 3, 1, 2, 3]\n",
      "[5, 10, 15]\n"
     ]
    }
   ],
   "source": [
    "arr = [1,2,3]\n",
    "print(arr*5)\n",
    "arr = [x*5 for x in arr]\n",
    "print(arr)\n",
    "\n",
    "\n"
   ]
  },
  {
   "cell_type": "code",
   "execution_count": 2,
   "id": "81ed9561-4414-4cbb-9772-b0288ad55d60",
   "metadata": {},
   "outputs": [
    {
     "name": "stdout",
     "output_type": "stream",
     "text": [
      "[ 5 10 15]\n"
     ]
    }
   ],
   "source": [
    "import numpy as np \n",
    "arr1 = np.array([1,2,3])\n",
    "\n",
    "arr1 = arr1*5\n",
    "print(arr1)\n"
   ]
  },
  {
   "cell_type": "markdown",
   "id": "68079bdc-5755-4334-9784-f50882ecd3b4",
   "metadata": {},
   "source": [
    "# Ndarray"
   ]
  },
  {
   "cell_type": "code",
   "execution_count": 10,
   "id": "a4903701-d08b-47ba-9ed6-c4ba7ae4a147",
   "metadata": {},
   "outputs": [
    {
     "name": "stdout",
     "output_type": "stream",
     "text": [
      "<class 'numpy.ndarray'>\n",
      "1\n",
      "2\n",
      "3\n"
     ]
    }
   ],
   "source": [
    "import numpy as np\n",
    "\n",
    "# 1d array\n",
    "\n",
    "arr1 = np.array([1,2,3,4,5])\n",
    "\n",
    "print(type(arr1))\n",
    "\n",
    "print(arr1.ndim)\n",
    "\n",
    "# 2d array\n",
    "arr2 = np.array([[1,2,3], # row 1\n",
    "                 [1,2,3] # row 2\n",
    "                ])\n",
    "\n",
    "print(arr2.ndim)\n",
    "\n",
    "\n",
    "\n",
    "#3d array\n",
    "arr3 = np.array([\n",
    "    # 1st floor\n",
    "    [\n",
    "        [1,2,3], # row1\n",
    "        [4,5,6]  # row3\n",
    "    ],\n",
    "    #2nd floor\n",
    "    [\n",
    "        [1,2,3], # row1\n",
    "        [4,5,6]  # row2\n",
    "    ],\n",
    "    # 3rd floor\n",
    "    [\n",
    "        [1,2,3], # row1\n",
    "        [4,5,6]  # row2\n",
    "    ]\n",
    "])\n",
    "\n",
    "print(arr3.ndim)\n"
   ]
  },
  {
   "cell_type": "code",
   "execution_count": 12,
   "id": "060227d4-ed4c-406c-9933-7e624a34e231",
   "metadata": {},
   "outputs": [
    {
     "name": "stdout",
     "output_type": "stream",
     "text": [
      "1\n",
      "2\n",
      "3\n",
      "(5,)\n",
      "(2, 3)\n",
      "(3, 2, 3)\n",
      "int64\n",
      "int64\n",
      "int64\n",
      "5\n",
      "6\n",
      "18\n"
     ]
    }
   ],
   "source": [
    "# Array Attributes\n",
    "\n",
    "# dimanension\n",
    "\n",
    "print(arr1.ndim)\n",
    "print(arr2.ndim)\n",
    "print(arr3.ndim)\n",
    "\n",
    "\n",
    "# shape \n",
    "print(arr1.shape)\n",
    "print(arr2.shape)\n",
    "print(arr3.shape)\n",
    "\n",
    "\n",
    "# data type\n",
    "print(arr1.dtype)\n",
    "print(arr2.dtype)\n",
    "print(arr3.dtype)\n",
    "\n",
    "# size\n",
    "print(arr1.size)\n",
    "print(arr2.size)\n",
    "print(arr3.size)\n"
   ]
  },
  {
   "cell_type": "code",
   "execution_count": 19,
   "id": "a768d69d-bfa2-4d1d-bdaf-8bdf75ec43d8",
   "metadata": {},
   "outputs": [
    {
     "name": "stdout",
     "output_type": "stream",
     "text": [
      "int64\n",
      "float64\n",
      "float64\n",
      "<U21\n"
     ]
    }
   ],
   "source": [
    "# ndarrayy data type\n",
    "\n",
    "arr = np.array([1,2,3])\n",
    "\n",
    "print(arr.dtype)\n",
    "\n",
    "arr = np.array([1.5,2.4,3.2])\n",
    "print(arr.dtype)\n",
    "\n",
    "arr  = np.array([1,2,3.2])\n",
    "\n",
    "# Upcasted to floot\n",
    "\n",
    "print(arr.dtype)\n",
    "\n",
    "# Upcasted to string\n",
    "arr  = np.array([1,2,3,'st'])\n",
    "print(arr.dtype)\n",
    "\n"
   ]
  },
  {
   "cell_type": "code",
   "execution_count": 37,
   "id": "e67c5315-14df-44db-8a87-ef25acb67ed6",
   "metadata": {},
   "outputs": [
    {
     "name": "stdout",
     "output_type": "stream",
     "text": [
      "int64\n",
      "int32\n",
      "int32\n",
      "<U32\n"
     ]
    }
   ],
   "source": [
    "# Selecting a datatype of an array\n",
    "arr = np.array([1,2,300])\n",
    "\n",
    "print(arr.dtype)\n",
    "\n",
    "arr = arr.astype(np.int32)\n",
    "print(arr.dtype)\n",
    "\n",
    "#error\n",
    "# arr  = np.array([1,2,3,'st'],dtype=np.float64)\n",
    "print(arr.dtype)\n",
    "\n",
    "\n",
    "\n",
    "\n",
    "arr  = np.array([1,2,3,True,3.25,'st'])\n",
    "print(arr.dtype)\n",
    "\n",
    "\n"
   ]
  },
  {
   "cell_type": "code",
   "execution_count": 46,
   "id": "f37ea162-ec3f-487d-8310-9110af5aae94",
   "metadata": {},
   "outputs": [
    {
     "name": "stdout",
     "output_type": "stream",
     "text": [
      "[ 12  30 430  40  34]\n",
      "<class 'numpy.ndarray'>\n",
      "int32\n",
      "[[1 2 3]\n",
      " [4 5 6]]\n",
      "<class 'numpy.ndarray'>\n",
      "int64\n",
      "(2, 3)\n",
      "2\n"
     ]
    }
   ],
   "source": [
    "# ndarray creating from existing data\n",
    "\n",
    "# List\n",
    "\n",
    "lst = [12,30,430,40,34.5]\n",
    "arr = np.array(lst,dtype=np.int32)\n",
    "print(arr)\n",
    "print(type(arr))\n",
    "print(arr.dtype)\n",
    "\n",
    "\n",
    "\n",
    "# mixed_lst = [12,True,'hello',2.34,[3,4,5]]\n",
    "\n",
    "# arr = np.array(mixed_lst)\n",
    "# print(arr)\n",
    "# print(type(arr))\n",
    "# print(arr.dtype)\n",
    "\n",
    "# matrix\n",
    "matrix =  [\n",
    "        [1,2,3], # row1\n",
    "        [4,5,6]  # row2\n",
    "    ]\n",
    "\n",
    "arr = np.array(matrix)\n",
    "print(arr)\n",
    "print(type(arr))\n",
    "print(arr.dtype)\n",
    "print(arr.shape)\n",
    "print(arr.ndim)\n",
    "\n"
   ]
  },
  {
   "cell_type": "code",
   "execution_count": 54,
   "id": "6e0bdd78-bc1c-4360-96aa-9acb77739c48",
   "metadata": {},
   "outputs": [
    {
     "name": "stdout",
     "output_type": "stream",
     "text": [
      "int32\n",
      "[19 39 49]\n",
      "<class 'numpy.ndarray'>\n",
      "int16\n",
      "(3,)\n",
      "1\n"
     ]
    }
   ],
   "source": [
    "# tuple\n",
    "\n",
    "tpl = (19,39,49)\n",
    "\n",
    "arr = np.array(tpl,dtype=np.int32)\n",
    "\n",
    "print(arr.dtype)\n",
    "arr = arr.astype(np.int16)\n",
    "print(arr)\n",
    "print(type(arr))\n",
    "print(arr.dtype)\n",
    "print(arr.shape)\n",
    "print(arr.ndim)\n"
   ]
  },
  {
   "cell_type": "code",
   "execution_count": 56,
   "id": "622ce807-7986-4025-b010-3869206d56b3",
   "metadata": {},
   "outputs": [
    {
     "name": "stdout",
     "output_type": "stream",
     "text": [
      "[1 2 3 4]\n",
      "<class 'numpy.ndarray'>\n",
      "int64\n",
      "(4,)\n",
      "1\n"
     ]
    }
   ],
   "source": [
    "\n",
    "st = {1,2,3,4}\n",
    "arr = np.array(list(st))\n",
    "print(arr)\n",
    "print(type(arr))\n",
    "print(arr.dtype)\n",
    "print(arr.shape)\n",
    "print(arr.ndim)"
   ]
  },
  {
   "cell_type": "code",
   "execution_count": 65,
   "id": "ba56b9bc-2f42-4bd6-9300-1daa8186b3b4",
   "metadata": {},
   "outputs": [
    {
     "name": "stdout",
     "output_type": "stream",
     "text": [
      "dict_keys(['a', 'b', 'c', 'd']) dict_values([3, 10, 20, 20]) dict_items([('a', 3), ('b', 10), ('c', 20), ('d', 20)])\n",
      "['a' 'b' 'c' 'd']\n",
      "<class 'numpy.ndarray'>\n",
      "<U1\n",
      "(4,)\n",
      "1\n",
      "4\n",
      "<-------- Values to ndarray----------->\n",
      "[ 3 10 20 20]\n",
      "<class 'numpy.ndarray'>\n",
      "int64\n",
      "(4,)\n",
      "1\n",
      "4\n",
      "<-------- Items to ndarray----------->\n",
      "[['a' '3']\n",
      " ['b' '10']\n",
      " ['c' '20']\n",
      " ['d' '20']]\n",
      "<class 'numpy.ndarray'>\n",
      "<U21\n",
      "(4, 2)\n",
      "2\n",
      "8\n"
     ]
    }
   ],
   "source": [
    "# dictionary\n",
    "dc = {'a':3,'b':10,'c':20,'d':20}\n",
    "keys = dc.keys()\n",
    "values = dc.values()\n",
    "items = dc.items()\n",
    "\n",
    "print(keys,values,items)\n",
    "\n",
    "\n",
    "arr = np.array(list(keys))\n",
    "print(arr)\n",
    "print(type(arr))\n",
    "print(arr.dtype)\n",
    "print(arr.shape)\n",
    "print(arr.ndim)\n",
    "print(arr.size)\n",
    "\n",
    "\n",
    "print(\"<-------- Values to ndarray----------->\")\n",
    "arr = np.array(list(values))\n",
    "print(arr)\n",
    "print(type(arr))\n",
    "print(arr.dtype)\n",
    "print(arr.shape)\n",
    "print(arr.ndim)\n",
    "print(arr.size)\n",
    "\n",
    "print(\"<-------- Items to ndarray----------->\")\n",
    "arr = np.array(list(items))\n",
    "print(arr)\n",
    "print(type(arr))\n",
    "print(arr.dtype)\n",
    "print(arr.shape)\n",
    "print(arr.ndim)\n",
    "print(arr.size)\n",
    "\n"
   ]
  },
  {
   "cell_type": "code",
   "execution_count": 73,
   "id": "5e226dd3-7bc4-41ca-bcab-97d038074a0c",
   "metadata": {},
   "outputs": [
    {
     "name": "stdout",
     "output_type": "stream",
     "text": [
      "[[0 0 0]\n",
      " [0 0 0]]\n",
      "<class 'numpy.ndarray'>\n",
      "int8\n",
      "(2, 3)\n",
      "2\n",
      "6\n",
      "[[[0 0 0]\n",
      "  [0 0 0]]\n",
      "\n",
      " [[0 0 0]\n",
      "  [0 0 0]]\n",
      "\n",
      " [[0 0 0]\n",
      "  [0 0 0]]]\n",
      "(3, 2, 3)\n"
     ]
    }
   ],
   "source": [
    "# Creating ndarray from scratch\n",
    "\n",
    "# np.zeros\n",
    "arr =  np.zeros((2,3),dtype=np.int8) # arr3 shape same\n",
    "\n",
    "print(arr)\n",
    "print(type(arr))\n",
    "print(arr.dtype)\n",
    "print(arr.shape)\n",
    "print(arr.ndim)\n",
    "print(arr.size)\n",
    "arr =  np.zeros_like(arr3)\n",
    "print(arr)\n",
    "print(arr.shape)"
   ]
  },
  {
   "cell_type": "code",
   "execution_count": 82,
   "id": "50b8faed-e0f0-4828-8211-aff1e7e9ab00",
   "metadata": {},
   "outputs": [
    {
     "name": "stdout",
     "output_type": "stream",
     "text": [
      "[[[1 1 1]\n",
      "  [1 1 1]]\n",
      "\n",
      " [[1 1 1]\n",
      "  [1 1 1]]\n",
      "\n",
      " [[1 1 1]\n",
      "  [1 1 1]]]\n",
      "(3, 2, 3)\n"
     ]
    }
   ],
   "source": [
    "# Creating ndarray from scratch\n",
    "\n",
    "# np.ones\n",
    "arr =  np.ones((3,4,3),dtype=np.int8) # arr3 shape same\n",
    "\n",
    "# print(arr)\n",
    "# print(type(arr))\n",
    "# print(arr.dtype)\n",
    "# print(arr.shape)\n",
    "# print(arr.ndim)\n",
    "# print(arr.size)\n",
    "arr =  np.ones_like(arr3)\n",
    "print(arr)\n",
    "print(arr.shape)"
   ]
  },
  {
   "cell_type": "code",
   "execution_count": 89,
   "id": "1ec95cb7-c613-4c5d-87ac-d893f88f1235",
   "metadata": {},
   "outputs": [
    {
     "name": "stdout",
     "output_type": "stream",
     "text": [
      "[[1 1 1]\n",
      " [1 1 1]\n",
      " [1 1 1]\n",
      " [1 1 1]]\n",
      "<class 'numpy.ndarray'>\n",
      "int8\n",
      "(4, 3)\n",
      "2\n",
      "12\n",
      "[[[1 1 1]\n",
      "  [1 1 1]]\n",
      "\n",
      " [[1 1 1]\n",
      "  [1 1 1]]\n",
      "\n",
      " [[1 1 1]\n",
      "  [1 1 1]]]\n",
      "(3, 2, 3)\n"
     ]
    }
   ],
   "source": [
    "# empty\n",
    "# Creating ndarray from scratch\n",
    "\n",
    "# np.ones\n",
    "arr =  np.empty((4,3),dtype=np.int8) # arr3 shape same\n",
    "\n",
    "print(arr)\n",
    "print(type(arr))\n",
    "print(arr.dtype)\n",
    "print(arr.shape)\n",
    "print(arr.ndim)\n",
    "print(arr.size)\n",
    "arr =  np.empty_like(arr3)\n",
    "print(arr)\n",
    "print(arr.shape)"
   ]
  },
  {
   "cell_type": "code",
   "execution_count": 107,
   "id": "b2535e03-0a5e-41d7-a9d4-170a01a75a25",
   "metadata": {},
   "outputs": [
    {
     "name": "stdout",
     "output_type": "stream",
     "text": [
      "[[inf inf inf]\n",
      " [inf inf inf]\n",
      " [inf inf inf]\n",
      " [inf inf inf]]\n",
      "<class 'numpy.ndarray'>\n",
      "float64\n",
      "(4, 3)\n",
      "2\n",
      "12\n",
      "[[[inf inf inf]\n",
      "  [inf inf inf]]\n",
      "\n",
      " [[inf inf inf]\n",
      "  [inf inf inf]]\n",
      "\n",
      " [[inf inf inf]\n",
      "  [inf inf inf]]]\n",
      "(3, 2, 3)\n"
     ]
    }
   ],
   "source": [
    "# full\n",
    "\n",
    "# empty\n",
    "# Creating ndarray from scratch\n",
    "\n",
    "# np.ones\n",
    "arr =  np.full((4,3),np.inf) # arr3 shape same\n",
    "\n",
    "print(arr)\n",
    "print(type(arr))\n",
    "print(arr.dtype)\n",
    "print(arr.shape)\n",
    "print(arr.ndim)\n",
    "print(arr.size)\n",
    "arr =  np.full_like(arr3,np.inf,dtype=np.float64)\n",
    "print(arr)\n",
    "print(arr.shape)"
   ]
  },
  {
   "cell_type": "code",
   "execution_count": 111,
   "id": "40a8a24e-7c76-432c-a9b3-92058a189b02",
   "metadata": {},
   "outputs": [
    {
     "name": "stdout",
     "output_type": "stream",
     "text": [
      "[[0.43261843 0.58997426 0.88560604]\n",
      " [0.24690336 0.81799039 0.36151965]]\n",
      "<class 'numpy.ndarray'>\n",
      "float64\n",
      "(2, 3)\n",
      "2\n",
      "6\n"
     ]
    }
   ],
   "source": [
    "# Array creation with random values\n",
    "\n",
    "arr =  np.random.rand(2,3) # 0 - > 1 \n",
    "print(arr)\n",
    "print(type(arr))\n",
    "print(arr.dtype)\n",
    "print(arr.shape)\n",
    "print(arr.ndim)\n",
    "print(arr.size)\n"
   ]
  },
  {
   "cell_type": "code",
   "execution_count": 117,
   "id": "bda078bc-ea8e-419d-b010-aee7871dfdd7",
   "metadata": {},
   "outputs": [
    {
     "name": "stdout",
     "output_type": "stream",
     "text": [
      "[[3 6 9]\n",
      " [7 8 5]]\n",
      "<class 'numpy.ndarray'>\n",
      "int64\n",
      "(2, 3)\n",
      "2\n",
      "6\n"
     ]
    }
   ],
   "source": [
    "# Random int\n",
    "# Array creation with random values\n",
    "\n",
    "#np.random.randint(start,end,(shape,shape))\n",
    "\n",
    "arr =  np.random.randint(1,10,(2,3)) \n",
    "print(arr)\n",
    "print(type(arr))\n",
    "print(arr.dtype)\n",
    "print(arr.shape)\n",
    "print(arr.ndim)\n",
    "print(arr.size)\n"
   ]
  },
  {
   "cell_type": "code",
   "execution_count": 118,
   "id": "913a99e1-e917-42cc-90f1-91e5fcfd2878",
   "metadata": {},
   "outputs": [
    {
     "name": "stdout",
     "output_type": "stream",
     "text": [
      "[[2.75677039 2.20048439 4.84117056]\n",
      " [7.37232499 3.56470184 7.4114049 ]]\n",
      "<class 'numpy.ndarray'>\n",
      "float64\n",
      "(2, 3)\n",
      "2\n",
      "6\n"
     ]
    }
   ],
   "source": [
    "# Random int\n",
    "# Array creation with random values\n",
    "\n",
    "#np.random.uniform(start,end,(shape,shape))\n",
    "\n",
    "arr =  np.random.uniform(1,10,(2,3)) \n",
    "print(arr)\n",
    "print(type(arr))\n",
    "print(arr.dtype)\n",
    "print(arr.shape)\n",
    "print(arr.ndim)\n",
    "print(arr.size)\n"
   ]
  },
  {
   "cell_type": "code",
   "execution_count": 121,
   "id": "b3e82dcc-4527-45fb-9d83-4e8ca1b816d7",
   "metadata": {},
   "outputs": [
    {
     "name": "stdout",
     "output_type": "stream",
     "text": [
      "[[1 2 3]\n",
      " [4 5 6]\n",
      " [7 8 9]]\n",
      "[1 2 3 4 5 6 7 8 9]\n",
      "<class 'numpy.ndarray'>\n",
      "int64\n",
      "(9,)\n",
      "1\n",
      "9\n"
     ]
    }
   ],
   "source": [
    "# Array creation with range functions\n",
    "# np.arange(first,end,step) -> semilar to range function\n",
    "\n",
    "\n",
    "arr = np.arange(1,10,1)\n",
    "mat = arr.reshape(3,3)\n",
    "print(mat)\n",
    "print(arr)\n",
    "print(type(arr))\n",
    "print(arr.dtype)\n",
    "print(arr.shape)\n",
    "print(arr.ndim)\n",
    "print(arr.size)\n"
   ]
  },
  {
   "cell_type": "code",
   "execution_count": 128,
   "id": "fb55c650-69d1-4942-bad8-9dbf4649f960",
   "metadata": {},
   "outputs": [
    {
     "name": "stdout",
     "output_type": "stream",
     "text": [
      "[ 1.          1.64285714  2.28571429  2.92857143  3.57142857  4.21428571\n",
      "  4.85714286  5.5         6.14285714  6.78571429  7.42857143  8.07142857\n",
      "  8.71428571  9.35714286 10.        ]\n",
      "<class 'numpy.ndarray'>\n",
      "float64\n",
      "(15,)\n",
      "1\n",
      "15\n"
     ]
    }
   ],
   "source": [
    "# np.linspace(start,end(included),koita)\n",
    "\n",
    "arr = np.linspace(1,10,15)\n",
    "\n",
    "print(arr)\n",
    "print(type(arr))\n",
    "print(arr.dtype)\n",
    "print(arr.shape)\n",
    "print(arr.ndim)\n",
    "print(arr.size)"
   ]
  },
  {
   "cell_type": "code",
   "execution_count": 132,
   "id": "caa0c520-9e91-43ce-a762-9225b791f0d5",
   "metadata": {},
   "outputs": [
    {
     "name": "stdout",
     "output_type": "stream",
     "text": [
      "[ 1.  2.  4.  8. 16.]\n",
      "<class 'numpy.ndarray'>\n",
      "float64\n",
      "(5,)\n",
      "1\n",
      "5\n"
     ]
    }
   ],
   "source": [
    "# np.logspace(start,end(included),koita)\n",
    "arr = np.logspace(0,4,5,base=2)\n",
    "\n",
    "print(arr)\n",
    "print(type(arr))\n",
    "print(arr.dtype)\n",
    "print(arr.shape)\n",
    "print(arr.ndim)\n",
    "print(arr.size)"
   ]
  },
  {
   "cell_type": "code",
   "execution_count": 135,
   "id": "bc8151ba-cd50-4dc2-aa94-a9478c2aaa90",
   "metadata": {},
   "outputs": [
    {
     "name": "stdout",
     "output_type": "stream",
     "text": [
      "[[1 0 0]\n",
      " [0 2 0]\n",
      " [0 0 3]]\n",
      "(3, 3)\n"
     ]
    }
   ],
   "source": [
    "# creating matrix for linear algebra\n",
    "\n",
    "diagonal_matrix = np.diag([1,2,3])\n",
    "print(diagonal_matrix)\n",
    "print(diagonal_matrix.shape)\n"
   ]
  },
  {
   "cell_type": "code",
   "execution_count": 144,
   "id": "5482e538-2c5b-49ad-92a1-d55b913236fa",
   "metadata": {},
   "outputs": [
    {
     "name": "stdout",
     "output_type": "stream",
     "text": [
      "[[1. 0. 0. 0.]\n",
      " [0. 1. 0. 0.]\n",
      " [0. 0. 1. 0.]]\n",
      "---\n",
      "[[0. 1. 0. 0.]\n",
      " [0. 0. 1. 0.]\n",
      " [0. 0. 0. 1.]]\n"
     ]
    }
   ],
   "source": [
    "# Identity matrix\n",
    "# identity_mat = np.eye(3)\n",
    "# print(identity_mat)\n",
    "# print(identity_mat.shape)\n",
    "\n",
    "\n",
    "# np.eye(row,column)\n",
    "mat = np.eye(3,4)\n",
    "print(mat)\n",
    "print(\"---\")\n",
    "mat = np.eye(3,4,1)\n",
    "print(mat)"
   ]
  },
  {
   "cell_type": "code",
   "execution_count": 158,
   "id": "1a006f57-9b9c-48c2-8fd0-32c68dfd7ee2",
   "metadata": {},
   "outputs": [
    {
     "name": "stdout",
     "output_type": "stream",
     "text": [
      "[  1   2 100   4   5]\n",
      "[[   1    2 2300]\n",
      " [   1    2    3]]\n",
      "[[   1    2 2300]\n",
      " [   1    2    3]]\n",
      "2300\n"
     ]
    }
   ],
   "source": [
    "# Indexing and slicing\n",
    "\n",
    "print(arr1)\n",
    "# print(arr2)\n",
    "# print(arr1[2])\n",
    "# arr1[2] = 100\n",
    "# print(arr1[2])\n",
    "# print(arr1)\n",
    "print(arr2)\n",
    "arr2[0][2] = 2300\n",
    "print(arr2)\n",
    "print(arr2[0][2])"
   ]
  },
  {
   "cell_type": "code",
   "execution_count": 187,
   "id": "a99ea7fb-e9c5-474a-b98c-c8c50edec0e9",
   "metadata": {},
   "outputs": [
    {
     "name": "stdout",
     "output_type": "stream",
     "text": [
      "[400 100   4]\n",
      "[500 100   4]\n",
      "[  1 400 100   4   5]\n"
     ]
    }
   ],
   "source": [
    "# slicing\n",
    "# 1d = arr[start:end:step]\n",
    "arr1_mod = arr1[1:4].copy()\n",
    "print(arr1_mod)\n",
    "arr1_mod[0] = 500\n",
    "print(arr1_mod)\n",
    "print(arr1)\n",
    "\n",
    "#2d slicing \n",
    "# arr[row_start:row_end:step,column_start:column_end:step]\n",
    "\n",
    "# print(arr2)\n",
    "\n",
    "# getting ar row\n",
    "row_0 = arr2[0:1,]\n",
    "row_1 = arr2[1:,]\n",
    "# print(row_0)\n",
    "# print(row_1)\n",
    "\n",
    "\n",
    "# getting a column\n",
    "# col_0 = arr2[::,0:1]\n",
    "# col_1 = arr2[::,1:2]\n",
    "# print(col_0)\n",
    "# print(col_1)\n",
    "\n",
    "\n",
    "\n",
    "# getting a portion\n",
    "portion = arr2[::,0:2]\n",
    "# print(portion)"
   ]
  },
  {
   "cell_type": "code",
   "execution_count": 198,
   "id": "fb5ac152-dd41-454d-8712-e7c0298568b7",
   "metadata": {},
   "outputs": [
    {
     "name": "stdout",
     "output_type": "stream",
     "text": [
      "[[1 2 0]\n",
      " [1 2 0]]\n",
      "[2 0]\n",
      "[]\n",
      "[[1 2 0]\n",
      " [1 2 0]]\n"
     ]
    }
   ],
   "source": [
    "# Advance indexing\n",
    "lst = np.array([1,3,4,788,44])\n",
    "values = lst[[2,3]]\n",
    "# print(values)\n",
    "\n",
    "\n",
    "print(arr2)\n",
    "print(arr2[[0,1],[1,2]])\n",
    "\n",
    "# using condition \n",
    "print(arr2[arr2>2])\n",
    "arr2[arr2>2] = 0\n",
    "print(arr2)"
   ]
  },
  {
   "cell_type": "code",
   "execution_count": 203,
   "id": "583a3826-c044-47fa-971a-3512558fe689",
   "metadata": {},
   "outputs": [
    {
     "name": "stdout",
     "output_type": "stream",
     "text": [
      "12\n",
      "3\n",
      "4\n",
      "34\n",
      "676\n",
      "23\n"
     ]
    }
   ],
   "source": [
    "arr = np.array([[12,3,4],[34,676,23]])\n",
    "# for i in arr:\n",
    "#     for j in i:\n",
    "#         print(j)\n",
    "for i in np.nditer(arr):\n",
    "    print(i)"
   ]
  },
  {
   "cell_type": "code",
   "execution_count": 217,
   "id": "23b33c8e-a3b8-4015-ac70-7dbc6c259b76",
   "metadata": {},
   "outputs": [
    {
     "name": "stdout",
     "output_type": "stream",
     "text": [
      "[1 0 0 0 5]\n"
     ]
    }
   ],
   "source": [
    "# print(np.linspace(0,10,5))\n",
    "# n = np.full(2,2),np.inf\n",
    "# print(n)\n",
    "\n",
    "# arr = np.array([[10,20,30],[40,50,60]])\n",
    "# print(arr[:,1])\n",
    "\n",
    "# arr = np.random.rand(2,3) \n",
    "# print(arr)\n",
    "\n",
    "\n",
    "arr = np.array([1,2,3,4,5])\n",
    "arr[1:4] = 0\n",
    "print(arr)"
   ]
  },
  {
   "cell_type": "code",
   "execution_count": 237,
   "id": "43465a19-8551-410c-a497-88317422f619",
   "metadata": {},
   "outputs": [
    {
     "name": "stdout",
     "output_type": "stream",
     "text": [
      "temperatures_fahrenheit: [74.3  77.   67.64 86.36 83.12 71.06 79.34 76.1  71.6  84.38]\n",
      "Shape : (5,)\n",
      "Size : 5\n",
      "DataType : float64\n",
      "Lap times in minutes : ['1.208s', '1.237s', '1.18s', '1.193s', '1.217s']\n"
     ]
    }
   ],
   "source": [
    "# 1. You have a list of temperatures recorded in Celsius. Your task is to:\n",
    "# Create a NumPy array from the given list.\n",
    "# Convert all temperatures from Celsius to Fahrenheit. The formula is F = C* 1.8 + 32.\n",
    "# Print the new Fahrenheit array.\n",
    "\n",
    "# 2.  You have a Python list containing the lap times (in seconds) for an athlete.\n",
    "\n",
    "# Task:\n",
    "\n",
    "# Convert the list into a NumPy array.\n",
    "# Print the array's shape, size, and data type.\n",
    "# The athlete wants to see their times in minutes. Create a new array by dividing all the lap times by 60.\n",
    "# Print the new array of lap times in minutes.\n",
    "\n",
    "\n",
    "\n",
    "# 1. \n",
    "temperatures_celsius = [23.5, 25.0, 19.8, 30.2, 28.4, 21.7, 26.3, 24.5, 22.0, 29.1]\n",
    "numpy_array = np.array(temperatures_celsius)\n",
    "# print(numpy_array)\n",
    "temperatures_fahrenheit = numpy_array*1.8+32\n",
    "print(f\"temperatures_fahrenheit: {temperatures_fahrenheit}\")\n",
    "\n",
    "\n",
    "\n",
    "# 2.\n",
    "lap_times = [72.5, 74.2, 70.8, 71.6, 73.0]\n",
    "lap_numpy = np.array(lap_times)\n",
    "print(f\"Shape : {lap_numpy.shape}\")\n",
    "print(f\"Size : {lap_numpy.size}\")\n",
    "print(f\"DataType : {lap_numpy.dtype}\")\n",
    "lap_in_minutes = lap_numpy/60\n",
    "print(f\"Lap times in minutes : {[str(round(time,3))+\"s\" for time in lap_in_minutes]}\")"
   ]
  },
  {
   "cell_type": "code",
   "execution_count": null,
   "id": "b31e1dd3-e9ae-4032-a5c9-fbfb7f4af653",
   "metadata": {},
   "outputs": [],
   "source": []
  }
 ],
 "metadata": {
  "kernelspec": {
   "display_name": "Python [conda env:base] *",
   "language": "python",
   "name": "conda-base-py"
  },
  "language_info": {
   "codemirror_mode": {
    "name": "ipython",
    "version": 3
   },
   "file_extension": ".py",
   "mimetype": "text/x-python",
   "name": "python",
   "nbconvert_exporter": "python",
   "pygments_lexer": "ipython3",
   "version": "3.13.5"
  }
 },
 "nbformat": 4,
 "nbformat_minor": 5
}
