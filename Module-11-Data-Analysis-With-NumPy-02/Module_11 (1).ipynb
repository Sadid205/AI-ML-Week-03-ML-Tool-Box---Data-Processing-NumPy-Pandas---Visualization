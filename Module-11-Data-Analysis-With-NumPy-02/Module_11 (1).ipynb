{
 "cells": [
  {
   "cell_type": "code",
   "execution_count": 4,
   "id": "8c133d2c-bf43-40a9-919f-d61e44b04009",
   "metadata": {},
   "outputs": [
    {
     "data": {
      "text/plain": [
       "(10, 5)"
      ]
     },
     "execution_count": 4,
     "metadata": {},
     "output_type": "execute_result"
    }
   ],
   "source": [
    "import numpy as np\n",
    "\n",
    "arr = np.random.randint(1,100,size=(10,5)) # sample - 10, feature - 5\n",
    "arr.shape\n",
    "# print(arr)"
   ]
  },
  {
   "cell_type": "code",
   "execution_count": 13,
   "id": "afe73d27-7137-4285-ba30-a7dc8341dd54",
   "metadata": {},
   "outputs": [
    {
     "data": {
      "text/plain": [
       "array([[59, 75, 89, 72,  8, 38, 95, 78, 61, 83],\n",
       "       [42,  8,  5,  5, 13, 18, 35, 50, 67, 19],\n",
       "       [46, 71, 95, 38, 43, 23, 45, 91, 89,  3],\n",
       "       [51, 22, 20, 60, 75, 25, 56, 41, 15, 95],\n",
       "       [34,  3, 79, 42, 54, 70, 60, 34, 67, 91]])"
      ]
     },
     "execution_count": 13,
     "metadata": {},
     "output_type": "execute_result"
    }
   ],
   "source": [
    "b = arr.reshape(5,10)\n",
    "b.shape\n",
    "b.ndim\n",
    "b"
   ]
  },
  {
   "cell_type": "code",
   "execution_count": 18,
   "id": "4504be0f-de6a-4d16-b2c1-2cb88bc6a1d5",
   "metadata": {},
   "outputs": [
    {
     "name": "stdout",
     "output_type": "stream",
     "text": [
      "[59 75 89 72  8 38 95 78 61 83 42  8  5  5 13 18 35 50 67 19 46 71 95 38\n",
      " 43 23 45 91 89  3 51 22 20 60 75 25 56 41 15 95 34  3 79 42 54 70 60 34\n",
      " 67 91]\n"
     ]
    }
   ],
   "source": [
    "# flatten = b.flatten()\n",
    "# print(flatten)\n",
    "# b\n",
    "\n",
    "# cloumn_wise_flattening \n",
    "# column_wise_flattening = np.ravel(b,order=\"F\")\n",
    "column_wise_flattening = np.ravel(b,order=\"C\")\n",
    "print(column_wise_flattening)\n"
   ]
  },
  {
   "cell_type": "code",
   "execution_count": 23,
   "id": "6c9738c4-1dbe-402f-8ec0-ee5d8befa2bc",
   "metadata": {},
   "outputs": [
    {
     "name": "stdout",
     "output_type": "stream",
     "text": [
      "[[4 9 2]\n",
      " [7 4 5]]\n",
      "[[28 25 23]\n",
      " [25 25 23]]\n"
     ]
    }
   ],
   "source": [
    "a = np.random.randint(1,10,size=(2,3)) # sample - 2, feature - 3\n",
    "b = np.random.randint(20,30,size=(2,3)) # sample - 2, feature - 3\n",
    "print(a)\n",
    "print(b)"
   ]
  },
  {
   "cell_type": "code",
   "execution_count": 26,
   "id": "7b3817b1-5da2-4ce1-9687-9bafc314f07a",
   "metadata": {},
   "outputs": [
    {
     "name": "stdout",
     "output_type": "stream",
     "text": [
      "[[ 4  9  2]\n",
      " [ 7  4  5]\n",
      " [28 25 23]\n",
      " [25 25 23]]\n",
      "[[ 4  9  2 28 25 23]\n",
      " [ 7  4  5 25 25 23]]\n"
     ]
    }
   ],
   "source": [
    "### Concatenet\n",
    "con_row = np.concatenate((a,b),axis=0) # row wise\n",
    "print(con_row)\n",
    "\n",
    "con_col = np.concatenate((a,b),axis=1) # column wise\n",
    "print(con_col)\n"
   ]
  },
  {
   "cell_type": "code",
   "execution_count": 32,
   "id": "05593207-65c3-4072-95f3-03b4bdcf222a",
   "metadata": {},
   "outputs": [
    {
     "name": "stdout",
     "output_type": "stream",
     "text": [
      "[[8 1 2]\n",
      " [7 4 3]]\n",
      "[[5 6 1]]\n",
      "---\n"
     ]
    },
    {
     "ename": "ValueError",
     "evalue": "all the input array dimensions except for the concatenation axis must match exactly, but along dimension 0, the array at index 0 has size 2 and the array at index 1 has size 1",
     "output_type": "error",
     "traceback": [
      "\u001b[0;31m---------------------------------------------------------------------------\u001b[0m",
      "\u001b[0;31mValueError\u001b[0m                                Traceback (most recent call last)",
      "Cell \u001b[0;32mIn[32], line 11\u001b[0m\n\u001b[1;32m      9\u001b[0m \u001b[38;5;28mprint\u001b[39m(y)\n\u001b[1;32m     10\u001b[0m \u001b[38;5;28mprint\u001b[39m(\u001b[38;5;124m\"\u001b[39m\u001b[38;5;124m---\u001b[39m\u001b[38;5;124m\"\u001b[39m)\n\u001b[0;32m---> 11\u001b[0m r \u001b[38;5;241m=\u001b[39m \u001b[43mnp\u001b[49m\u001b[38;5;241;43m.\u001b[39;49m\u001b[43mconcatenate\u001b[49m\u001b[43m(\u001b[49m\u001b[43m(\u001b[49m\u001b[43mx\u001b[49m\u001b[43m,\u001b[49m\u001b[43my\u001b[49m\u001b[43m)\u001b[49m\u001b[43m,\u001b[49m\u001b[43maxis\u001b[49m\u001b[38;5;241;43m=\u001b[39;49m\u001b[38;5;241;43m1\u001b[39;49m\u001b[43m)\u001b[49m\n\u001b[1;32m     12\u001b[0m \u001b[38;5;28mprint\u001b[39m(r)\n",
      "\u001b[0;31mValueError\u001b[0m: all the input array dimensions except for the concatenation axis must match exactly, but along dimension 0, the array at index 0 has size 2 and the array at index 1 has size 1"
     ]
    }
   ],
   "source": [
    "# error\n",
    "\n",
    "# row wise concaanate korar somoy column same thakbe \n",
    "# column wise concaanate korar somoy row same thakbe \n",
    "x = np.random.randint(1,10,size=(2,3))\n",
    "print(x)\n",
    "\n",
    "y = np.random.randint(1,10,size=(1,3)) \n",
    "print(y)\n",
    "print(\"---\")\n",
    "r = np.concatenate((x,y),axis=1)\n",
    "print(r)"
   ]
  },
  {
   "cell_type": "code",
   "execution_count": 100,
   "id": "33939edf-9032-4ba6-bb07-dde36c9032ff",
   "metadata": {},
   "outputs": [
    {
     "name": "stdout",
     "output_type": "stream",
     "text": [
      "[[30  4]\n",
      " [ 2 20]\n",
      " [40 50]]\n"
     ]
    }
   ],
   "source": [
    "# transpose\n",
    "mat = np.array([\n",
    "    [30,2,40],\n",
    "    [4,20,50],\n",
    "])\n",
    "transpose = mat.T\n",
    "print(transpose)"
   ]
  },
  {
   "cell_type": "code",
   "execution_count": 45,
   "id": "571b7b53-a2e7-4cc3-8f91-26668b7876aa",
   "metadata": {},
   "outputs": [
    {
     "name": "stdout",
     "output_type": "stream",
     "text": [
      "[7 3 2 6 1 7 8 7 3 7]\n",
      "[array([7, 3, 2, 6]), array([1, 7, 8]), array([7, 3, 7])]\n"
     ]
    },
    {
     "ename": "ValueError",
     "evalue": "array split does not result in an equal division",
     "output_type": "error",
     "traceback": [
      "\u001b[0;31m---------------------------------------------------------------------------\u001b[0m",
      "\u001b[0;31mValueError\u001b[0m                                Traceback (most recent call last)",
      "Cell \u001b[0;32mIn[45], line 9\u001b[0m\n\u001b[1;32m      6\u001b[0m splited_array \u001b[38;5;241m=\u001b[39m np\u001b[38;5;241m.\u001b[39marray_split(a,\u001b[38;5;241m3\u001b[39m)\n\u001b[1;32m      7\u001b[0m \u001b[38;5;28mprint\u001b[39m(splited_array)\n\u001b[0;32m----> 9\u001b[0m splited_array \u001b[38;5;241m=\u001b[39m \u001b[43mnp\u001b[49m\u001b[38;5;241;43m.\u001b[39;49m\u001b[43msplit\u001b[49m\u001b[43m(\u001b[49m\u001b[43ma\u001b[49m\u001b[43m,\u001b[49m\u001b[38;5;241;43m3\u001b[39;49m\u001b[43m)\u001b[49m\n",
      "File \u001b[0;32m~/anaconda3/lib/python3.13/site-packages/numpy/lib/_shape_base_impl.py:877\u001b[0m, in \u001b[0;36msplit\u001b[0;34m(ary, indices_or_sections, axis)\u001b[0m\n\u001b[1;32m    875\u001b[0m     N \u001b[38;5;241m=\u001b[39m ary\u001b[38;5;241m.\u001b[39mshape[axis]\n\u001b[1;32m    876\u001b[0m     \u001b[38;5;28;01mif\u001b[39;00m N \u001b[38;5;241m%\u001b[39m sections:\n\u001b[0;32m--> 877\u001b[0m         \u001b[38;5;28;01mraise\u001b[39;00m \u001b[38;5;167;01mValueError\u001b[39;00m(\n\u001b[1;32m    878\u001b[0m             \u001b[38;5;124m'\u001b[39m\u001b[38;5;124marray split does not result in an equal division\u001b[39m\u001b[38;5;124m'\u001b[39m) \u001b[38;5;28;01mfrom\u001b[39;00m\u001b[38;5;250m \u001b[39m\u001b[38;5;28;01mNone\u001b[39;00m\n\u001b[1;32m    879\u001b[0m \u001b[38;5;28;01mreturn\u001b[39;00m array_split(ary, indices_or_sections, axis)\n",
      "\u001b[0;31mValueError\u001b[0m: array split does not result in an equal division"
     ]
    }
   ],
   "source": [
    "# Array split\n",
    "a = np.random.randint(1,10,size=(10,)) \n",
    "print(a)\n",
    "\n",
    "\n",
    "splited_array = np.array_split(a,3)\n",
    "print(splited_array)\n",
    "\n",
    "\n",
    "# split -> equal division\n",
    "splited_array = np.split(a,3)\n"
   ]
  },
  {
   "cell_type": "code",
   "execution_count": 61,
   "id": "5e873e85-efae-4d3f-909f-aadfc6a7424b",
   "metadata": {},
   "outputs": [
    {
     "name": "stdout",
     "output_type": "stream",
     "text": [
      "[12 11 34 45]\n",
      "[ 8  5 26 35]\n",
      "[ 20  24 120 200]\n",
      "[5.         2.66666667 7.5        8.        ]\n",
      "[0 2 2 0]\n"
     ]
    }
   ],
   "source": [
    "# arithmetic operator and mathematical functions\n",
    "# faster for vectorization\n",
    "x = np.array([10,8,30,40])\n",
    "y = np.array([2,3,4,5])\n",
    "add = x+y\n",
    "print(add)\n",
    "sub = x-y\n",
    "print(sub)\n",
    "mul = x*y\n",
    "print(mul)\n",
    "div = x/y\n",
    "print(div)\n",
    "reminder = x%y\n",
    "print(reminder)\n"
   ]
  },
  {
   "cell_type": "code",
   "execution_count": 62,
   "id": "f68e19d1-a896-4591-b350-aa7bc659fba2",
   "metadata": {},
   "outputs": [
    {
     "name": "stdout",
     "output_type": "stream",
     "text": [
      "[-0.54402111  0.98935825 -0.98803162  0.74511316]\n",
      "[-0.83907153 -0.14550003  0.15425145 -0.66693806]\n",
      "[ 572.95779513  458.3662361  1718.87338539 2291.83118052]\n"
     ]
    }
   ],
   "source": [
    "# mathematical function\n",
    "# tgrigonometry\n",
    "# sin,cos,tan takes values in radian\n",
    "sin_val = np.sin(x)\n",
    "print(sin_val)\n",
    "cos_val = np.cos(x)\n",
    "print(cos_val)\n",
    "deg_con = np.rad2deg(x)\n",
    "print(deg_con)\n",
    "\n",
    "# degtorad"
   ]
  },
  {
   "cell_type": "code",
   "execution_count": 66,
   "id": "aec8828f-6f66-48f9-b7db-bca3e1964cb9",
   "metadata": {},
   "outputs": [
    {
     "name": "stdout",
     "output_type": "stream",
     "text": [
      "[1.         0.90308999 1.20411998 1.60205999]\n",
      "[3.32192809 3.         4.         5.32192809]\n",
      "[3.16227766 2.82842712 4.         6.32455532]\n"
     ]
    }
   ],
   "source": [
    "# log\n",
    "x = np.array([10,8,16,40])\n",
    "\n",
    "base_10_log_val = np.log10(x)\n",
    "print(base_10_log_val)\n",
    "\n",
    "two_diye_bhag = np.log2(x)\n",
    "print(two_diye_bhag)\n",
    "\n",
    "\n",
    "\n",
    "sqrt = np.sqrt(x)\n",
    "print(sqrt)\n",
    "\n"
   ]
  },
  {
   "cell_type": "code",
   "execution_count": 71,
   "id": "a384d8e1-785e-42e3-81c9-b398fb97812c",
   "metadata": {},
   "outputs": [
    {
     "name": "stdout",
     "output_type": "stream",
     "text": [
      "74\n",
      "[10 18 34 74]\n"
     ]
    }
   ],
   "source": [
    "# different\n",
    "s = np.sum(x)\n",
    "print(s)\n",
    "\n",
    "#  prefix sum\n",
    "cumul =  np.cumulative_sum(x)\n",
    "print(cumul)\n"
   ]
  },
  {
   "cell_type": "code",
   "execution_count": 76,
   "id": "9dffd3ba-cb79-460d-9de2-2da50c9a3316",
   "metadata": {},
   "outputs": [
    {
     "name": "stdout",
     "output_type": "stream",
     "text": [
      "[ 100   64  256 1600]\n",
      "[[12 22 32]\n",
      " [32 42 52]]\n",
      "[[11 22 33]\n",
      " [31 42 53]]\n"
     ]
    }
   ],
   "source": [
    "# broadcasting\n",
    "\n",
    "x = np.array([10,8,16,40])\n",
    "result = x**2\n",
    "print(result)\n",
    "\n",
    "# column er size and vector er size same hote hobe\n",
    "\n",
    "mat = np.array([\n",
    "    [10,20,30],\n",
    "    [30,40,50],\n",
    "])\n",
    "\n",
    "result = mat +2\n",
    "print(result)\n",
    "\n",
    "vector = np.array([1,2,3])\n",
    "result  = mat + vector\n",
    "print(result)\n"
   ]
  },
  {
   "cell_type": "code",
   "execution_count": 82,
   "id": "8f3d40b4-4461-43e4-bfd5-47f1fff73798",
   "metadata": {},
   "outputs": [
    {
     "name": "stdout",
     "output_type": "stream",
     "text": [
      "[ True  True False  True]\n",
      "[False False  True False]\n",
      "False\n",
      "True\n"
     ]
    }
   ],
   "source": [
    "# logical function \n",
    "# comparison - >,<,>=,==,!=\n",
    "x = np.array([10,8,30,40])\n",
    "y = np.array([2,3,30,5])\n",
    "\n",
    "greater_than = x>y\n",
    "print(greater_than)\n",
    "equal = x==y\n",
    "print(equal)\n",
    "\n",
    "\n",
    "# all () -> sob tru.e kina \n",
    "# any () -> jekono ekta true kina\n",
    "print(np.all(greater_than))\n",
    "print(np.any(equal))"
   ]
  },
  {
   "cell_type": "code",
   "execution_count": 84,
   "id": "c7b1a8f5-6335-4bf6-a461-6afc7b0aadf9",
   "metadata": {},
   "outputs": [
    {
     "name": "stdout",
     "output_type": "stream",
     "text": [
      "[10  8 30 40]\n",
      "[ 8 10 30 40]\n"
     ]
    }
   ],
   "source": [
    "# inplace sorting\n",
    "x = np.array([10,8,30,40])\n",
    "z = x.copy()\n",
    "\n",
    "\n",
    "print(z)\n",
    "z.sort()\n",
    "print(z)\n"
   ]
  },
  {
   "cell_type": "code",
   "execution_count": 86,
   "id": "320df476-f883-4680-b8aa-f02daaa77ffa",
   "metadata": {},
   "outputs": [
    {
     "name": "stdout",
     "output_type": "stream",
     "text": [
      "[10  8 30 40]\n",
      "[ 8 10 30 40]\n",
      "[10  8 30 40]\n"
     ]
    }
   ],
   "source": [
    "# copy sorting\n",
    "print(x)\n",
    "sort_arr = np.sort(x)\n",
    "print(sort_arr)\n",
    "print(x)"
   ]
  },
  {
   "cell_type": "code",
   "execution_count": 102,
   "id": "81db2cdb-f877-428e-912a-b58d82bffaf6",
   "metadata": {},
   "outputs": [
    {
     "name": "stdout",
     "output_type": "stream",
     "text": [
      "[[30  2 40]\n",
      " [ 4 20 50]]\n",
      "[[ 2 30 40]\n",
      " [ 4 20 50]]\n",
      "[[ 4  2 40]\n",
      " [30 20 50]]\n"
     ]
    }
   ],
   "source": [
    "# 2d array sorting\n",
    "\n",
    "# hrizon axis = 1\n",
    "print(mat)\n",
    "hor_sort = np.sort(mat,axis=1)\n",
    "print(hor_sort)\n",
    "var_sort = np.sort(mat,axis=0)\n",
    "print(var_sort)"
   ]
  },
  {
   "cell_type": "code",
   "execution_count": 109,
   "id": "f6a110b2-a575-438c-86b4-bd961e8b37e2",
   "metadata": {},
   "outputs": [
    {
     "name": "stdout",
     "output_type": "stream",
     "text": [
      "[10  8 30 40]\n",
      "(array([0, 2, 3]),)\n",
      "[10  0 30 40]\n"
     ]
    }
   ],
   "source": [
    "# Searching \n",
    "\n",
    "x = np.array([10,8,30,40])\n",
    "y = np.array([2,3,30,5])\n",
    "print(x)\n",
    "# np.where(condition,x,y) if true x, otherwise replace with y\n",
    "index = np.where(x>8) # RETURNS INDEX\n",
    "print(index)\n",
    "index = np.where(x>8,x,0)  # RETURNS ARRAY\n",
    "print(index)"
   ]
  },
  {
   "cell_type": "code",
   "execution_count": 115,
   "id": "3a14a1e5-aa96-458e-ae4b-abbfc86f1b74",
   "metadata": {},
   "outputs": [
    {
     "name": "stdout",
     "output_type": "stream",
     "text": [
      "[[30  2 40]\n",
      " [ 4 20 50]]\n",
      "(array([0, 0, 1, 1]), array([0, 2, 1, 2]))\n",
      "[[30  0 40]\n",
      " [ 0 20 50]]\n"
     ]
    }
   ],
   "source": [
    "print(mat)\n",
    "index = np.where(mat>8) # returns index\n",
    "print(index)\n",
    "\n",
    "arr = np.where(mat>8,mat,0) # returns array\n",
    "print(arr)"
   ]
  },
  {
   "cell_type": "code",
   "execution_count": 119,
   "id": "cb3365f4-2ab8-45b9-80a2-87028bfd7714",
   "metadata": {},
   "outputs": [
    {
     "name": "stdout",
     "output_type": "stream",
     "text": [
      "[10  8 30 40]\n",
      "3\n",
      "1\n"
     ]
    }
   ],
   "source": [
    "# maximum minimum\n",
    "print(x)\n",
    "maximum_value = np.argmax(x)\n",
    "minimum_value = np.argmin(x)\n",
    "print(maximum_value)\n",
    "print(minimum_value)\n"
   ]
  },
  {
   "cell_type": "code",
   "execution_count": 124,
   "id": "23669d7c-e944-480f-9874-a765354ebade",
   "metadata": {},
   "outputs": [
    {
     "name": "stdout",
     "output_type": "stream",
     "text": [
      "[ 1 78  4 80 35 27 55 57 94 56  7 84 83 11 64 66 44 22 14 52 57 37 58 46\n",
      " 31  3 64 81 14 76 97  3 86 19 38 41 98 58 68 48  4 62  3 47 21 52 83  1\n",
      " 69  1 79  8 77 39 24 76 45 92 72 18 71 75 86 60 24 36 31 27 65 20 86 71\n",
      " 46 40 12 65 62  6 22 46 50  7 89 74 14 16 20 42 26 97 25 91 58 45 47 72\n",
      " 22 52 97 63]\n",
      "32\n"
     ]
    }
   ],
   "source": [
    "# array counting\n",
    "a = np.random.randint(1,100,size=(100,)) \n",
    "print(a)\n",
    "value_grater_than_60 = np.count_nonzero(a<30)\n",
    "print(value_grater_than_60)"
   ]
  },
  {
   "cell_type": "code",
   "execution_count": 129,
   "id": "3a988259-fea2-4d06-9145-91a6df41601a",
   "metadata": {},
   "outputs": [
    {
     "name": "stdout",
     "output_type": "stream",
     "text": [
      "[ 1  3  4  6  7  8 11 12 14 16 18 19 20 21 22 24 25 26 27 31 35 36 37 38\n",
      " 39 40 41 42 44 45 46 47 48 50 52 55 56 57 58 60 62 63 64 65 66 68 69 71\n",
      " 72 74 75 76 77 78 79 80 81 83 84 86 89 91 92 94 97 98] [3 3 2 1 2 1 1 1 3 1 1 1 2 1 3 2 1 1 2 2 1 1 1 1 1 1 1 1 1 2 3 2 1 1 3 1 1\n",
      " 2 3 1 2 1 2 2 1 1 1 2 2 1 1 2 1 1 1 1 1 2 1 3 1 1 1 1 3 1]\n"
     ]
    }
   ],
   "source": [
    "unique_values,count = np.unique(a,return_counts=True)\n",
    "print(unique_values,count)"
   ]
  },
  {
   "cell_type": "code",
   "execution_count": 140,
   "id": "0e8c1e52-6d19-4cca-bee2-f0d45e419e14",
   "metadata": {},
   "outputs": [
    {
     "name": "stdout",
     "output_type": "stream",
     "text": [
      "[[78. 56. 89. 45. 70. 92. 61. 55. 88. 74. 66. 80. 59. 73. 91. 68. 77. 84.\n",
      "  62. 95.]]\n",
      "95.0\n",
      "45.0\n",
      "73.15\n",
      "73.5\n",
      "13.788672887555204\n"
     ]
    }
   ],
   "source": [
    "# statical function\n",
    "# data load\n",
    "data = np.genfromtxt('student_scores.csv',delimiter=',',skip_header=1)\n",
    "# print(data)\n",
    "math_marks = data[::,:1]\n",
    "print(math_marks.T)\n",
    "max_math_marks = np.max(math_marks)\n",
    "print(max_math_marks)\n",
    "min_math_marks = np.min(math_marks)\n",
    "print(min_math_marks)\n",
    "avg_math_marks = np.mean(math_marks)\n",
    "print(avg_math_marks)\n",
    "median_math_marks = np.median(math_marks)\n",
    "print(median_math_marks)\n",
    "\n",
    "\n",
    "# Standard deviation\n",
    "std_math_marks = np.std(math_marks)\n",
    "print(std_math_marks)"
   ]
  },
  {
   "cell_type": "code",
   "execution_count": 141,
   "id": "e9642974-876c-402a-89ba-918b4cc1aff4",
   "metadata": {},
   "outputs": [
    {
     "name": "stdout",
     "output_type": "stream",
     "text": [
      "[[ 2  4  5  7  8]\n",
      " [65 75 78 88 92]]\n"
     ]
    }
   ],
   "source": [
    "# correlation matrix:\n",
    "study_hours = np.array([2,4,5,7,8])\n",
    "exam_scores = np.array([65,75,78,88,92])\n",
    "data = np.array([study_hours,exam_scores])\n",
    "print(data)"
   ]
  },
  {
   "cell_type": "code",
   "execution_count": 142,
   "id": "02dc79bf-b8d9-4661-ac40-ee9febc28752",
   "metadata": {},
   "outputs": [
    {
     "name": "stdout",
     "output_type": "stream",
     "text": [
      "[[1.         0.99859154]\n",
      " [0.99859154 1.        ]]\n"
     ]
    }
   ],
   "source": [
    "correlation = np.corrcoef(data)\n",
    "print(correlation)\n"
   ]
  },
  {
   "cell_type": "code",
   "execution_count": 147,
   "id": "3d749c5d-1d5c-4fd7-b0fb-cc0750d40343",
   "metadata": {},
   "outputs": [
    {
     "name": "stdout",
     "output_type": "stream",
     "text": [
      "[[ 58  64]\n",
      " [139 154]]\n",
      "17\n"
     ]
    }
   ],
   "source": [
    "# Liniar algebra\n",
    "A = np.array([\n",
    "    [1,2,3],\n",
    "    [4,5,6],\n",
    "])\n",
    "B= np.array([\n",
    "    [7,8],\n",
    "    [9,10],\n",
    "    [11,12],\n",
    "])\n",
    "\n",
    "# a er collumn and b er row same length hote hobe\n",
    "dot_product = np.dot(A,B)\n",
    "print(dot_product)\n",
    "# trace\n",
    "print(np.trace(B))\n",
    "\n",
    "\n",
    "\n",
    "\n"
   ]
  },
  {
   "cell_type": "code",
   "execution_count": 151,
   "id": "aebee074-49d9-437c-b1a4-deddb38fb3c9",
   "metadata": {},
   "outputs": [
    {
     "name": "stdout",
     "output_type": "stream",
     "text": [
      "[[1 2 3]\n",
      " [4 5 6]\n",
      " [7 8 9]]\n",
      "6.66133814775094e-16\n",
      "2\n"
     ]
    }
   ],
   "source": [
    "# determinent\n",
    "\n",
    "sq_mt = np.array([\n",
    "    [1,2,3],\n",
    "    [4,5,6],\n",
    "    [7,8,9]\n",
    "])\n",
    "print(sq_mt)\n",
    "det_of_sq = np.linalg.det(sq_mt)\n",
    "print(det_of_sq)\n",
    "rank_sq = np.linalg.matrix_rank(sq_mt)\n",
    "print(rank_sq)"
   ]
  },
  {
   "cell_type": "code",
   "execution_count": null,
   "id": "7a138774-bd4f-41a3-bcdc-0e2486f53ca7",
   "metadata": {},
   "outputs": [],
   "source": [
    "# https://www.deep-ml.com/problems/4\n",
    "\n",
    "import numpy as np\n",
    "\n",
    "def calculate_matrix_mean(matrix: list[list[float]], mode: str) -> list[float]:\n",
    "\n",
    "\tmat = np.array(matrix)\n",
    "\tif mode == 'row':\n",
    "\t\tmeans = np.mean(matrix,axis=1).tolist()\n",
    "\telse:\n",
    "\t\tmeans = np.mean(matrix,axis=0).tolist()\n",
    "\treturn means\n",
    "    "
   ]
  },
  {
   "cell_type": "code",
   "execution_count": null,
   "id": "c1ca7edd-82c7-411a-a7a4-f5463897b00c",
   "metadata": {},
   "outputs": [],
   "source": [
    "# https://www.deep-ml.com/problems/1\n",
    "import numpy as np\n",
    "def matrix_dot_vector(a: list[list[int|float]], b: list[int|float]) -> list[int|float]:\n",
    "\ta = np.array(a)\n",
    "    b = np.array(b)\n",
    "\n",
    "    shape_a = a.shape\n",
    "    if shape_a[1] != b.size:\n",
    "        return -1\n",
    "    dot = np.dot(a,b).tolist()\n",
    "    return dot\n",
    "\t"
   ]
  },
  {
   "cell_type": "code",
   "execution_count": 6,
   "id": "178cbde9-f607-4990-9b0a-51c5af3fc8f6",
   "metadata": {},
   "outputs": [
    {
     "name": "stdout",
     "output_type": "stream",
     "text": [
      "(2, 3)\n",
      "[1 2 3 4 5 6]\n",
      "1.0\n",
      "[1 2 3]\n",
      "[[19 22]\n",
      " [43 50]]\n"
     ]
    }
   ],
   "source": [
    "import numpy as np\n",
    "a = np.array([1,2,3,4,5,6])\n",
    "b = a.reshape(2,3)\n",
    "print(b.shape)\n",
    "print(a)\n",
    "print(np.sin(np.pi/2))\n",
    "s = np.array([3,1,2])\n",
    "print(np.sort(s))\n",
    "\n",
    "x = np.array([\n",
    "    [1,2],\n",
    "    [3,4]\n",
    "])\n",
    "y = np.array([\n",
    "    [5,6],\n",
    "    [7,8]\n",
    "])\n",
    "ans = np.dot(x,y)\n",
    "print(ans)"
   ]
  },
  {
   "cell_type": "code",
   "execution_count": null,
   "id": "b2b94f4f-9596-41f5-bf87-8a499247eb13",
   "metadata": {},
   "outputs": [],
   "source": [
    "# https://www.deep-ml.com/problems/2\n",
    "import numpy as np\n",
    "\n",
    "def transpose_matrix(a: list[list[int|float]]) -> list[list[int|float]]:\n",
    "\n",
    "    a = np.array(a)\n",
    "    b = np.transpose(a)\n",
    "\treturn b"
   ]
  }
 ],
 "metadata": {
  "kernelspec": {
   "display_name": "Python [conda env:base] *",
   "language": "python",
   "name": "conda-base-py"
  },
  "language_info": {
   "codemirror_mode": {
    "name": "ipython",
    "version": 3
   },
   "file_extension": ".py",
   "mimetype": "text/x-python",
   "name": "python",
   "nbconvert_exporter": "python",
   "pygments_lexer": "ipython3",
   "version": "3.13.5"
  }
 },
 "nbformat": 4,
 "nbformat_minor": 5
}
