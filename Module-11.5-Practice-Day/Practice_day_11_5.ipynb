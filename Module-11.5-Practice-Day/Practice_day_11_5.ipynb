{
  "nbformat": 4,
  "nbformat_minor": 0,
  "metadata": {
    "colab": {
      "provenance": []
    },
    "kernelspec": {
      "name": "python3",
      "display_name": "Python 3"
    },
    "language_info": {
      "name": "python"
    }
  },
  "cells": [
    {
      "cell_type": "code",
      "execution_count": 5,
      "metadata": {
        "colab": {
          "base_uri": "https://localhost:8080/"
        },
        "id": "EWCWbvOyE5vc",
        "outputId": "a0b82850-1897-4368-b7ee-c33f8d5504ef"
      },
      "outputs": [
        {
          "output_type": "stream",
          "name": "stdout",
          "text": [
            "{'1D': {'Dimenssion': 1, 'Shape': (5,)}}\n",
            "{'2D': {'Dimenssion': 2, 'Shape': (2, 3)}}\n",
            "{'3D': {'Dimenssion': 3, 'Shape': (2, 2, 3)}}\n"
          ]
        }
      ],
      "source": [
        "#1 . Create a 1D, 2D, and 3D NumPy array and print their dimensions and shapes.\n",
        "import numpy as np\n",
        "oneD = np.array([1, 2, 3, 4, 5])\n",
        "twoD = np.array([[1, 2, 3], [4, 5, 6]])\n",
        "threeD = np.array([[[1, 2, 3], [4, 5, 6]], [[1, 2, 3], [4, 5, 6]]])\n",
        "\n",
        "print({\"1D\":{\n",
        "    \"Dimenssion\":oneD.ndim,\n",
        "    \"Shape\":oneD.shape\n",
        "}})\n",
        "\n",
        "print({\"2D\":{\n",
        "    \"Dimenssion\":twoD.ndim,\n",
        "    \"Shape\":twoD.shape\n",
        "}})\n",
        "\n",
        "print({\"3D\":{\n",
        "    \"Dimenssion\":threeD.ndim,\n",
        "    \"Shape\":threeD.shape\n",
        "}})\n"
      ]
    },
    {
      "cell_type": "code",
      "source": [
        "# 2 . Create:\n",
        "# an array of zeros of shape (3,3)\n",
        "\n",
        "\n",
        "# an array of ones of shape (2,5)\n",
        "\n",
        "\n",
        "# an array filled with 7\n",
        "\n",
        "import numpy as np\n",
        "Zero = np.zeros((3,3))\n",
        "Ones = np.ones((2,5))\n",
        "Filled = np.full((1,3),7)\n",
        "\n",
        "print({\"Zero\":Zero})\n",
        "print({\"Ones\":Ones})\n",
        "print({\"Filled\":Filled})\n",
        "\n"
      ],
      "metadata": {
        "colab": {
          "base_uri": "https://localhost:8080/"
        },
        "id": "MaMWFFphHy-o",
        "outputId": "5c860584-047d-4b2c-8579-d707e673cdb0"
      },
      "execution_count": 19,
      "outputs": [
        {
          "output_type": "stream",
          "name": "stdout",
          "text": [
            "{'Zero': array([[0., 0., 0.],\n",
            "       [0., 0., 0.],\n",
            "       [0., 0., 0.]])}\n",
            "{'Ones': array([[1., 1., 1., 1., 1.],\n",
            "       [1., 1., 1., 1., 1.]])}\n",
            "{'Filled': array([[7, 7, 7]])}\n"
          ]
        }
      ]
    },
    {
      "cell_type": "code",
      "source": [
        "# 3 . Create an array of even numbers between 10 and 50 using arange.\n",
        "import numpy as np\n",
        "arr = np.arange(10,50)\n",
        "even = arr[arr % 2 == 0]\n",
        "print({\"even\": even.tolist()})"
      ],
      "metadata": {
        "colab": {
          "base_uri": "https://localhost:8080/"
        },
        "id": "yD2tV3naKKSh",
        "outputId": "f60b8842-8a6d-4aef-907b-9ccf0d205d38"
      },
      "execution_count": 31,
      "outputs": [
        {
          "output_type": "stream",
          "name": "stdout",
          "text": [
            "{'even': [10, 12, 14, 16, 18, 20, 22, 24, 26, 28, 30, 32, 34, 36, 38, 40, 42, 44, 46, 48]}\n"
          ]
        }
      ]
    },
    {
      "cell_type": "code",
      "source": [
        "# 4 . Create a 4×4 matrix from 0–15. Then , extract:\n",
        "# the first row\n",
        "\n",
        "\n",
        "# the last column\n",
        "\n",
        "\n",
        "# a 2×2 subarray from the center\n",
        "\n",
        "\n",
        "import numpy as np\n",
        "arr = np.arange(0,16)\n",
        "mat_4_4 = arr.reshape(4,4)\n",
        "print(mat_4_4)\n",
        "first_row = mat_4_4[:1:,]\n",
        "last_column = mat_4_4[::,3:]\n",
        "print({\"first_row\":first_row})\n",
        "print({\"last_column\":last_column})\n",
        "sub_arr = mat_4_4[1:3,1:3]\n",
        "print({\"sub_arr\":sub_arr})\n"
      ],
      "metadata": {
        "colab": {
          "base_uri": "https://localhost:8080/"
        },
        "id": "EqG3JNaBMzp5",
        "outputId": "c2ff5a80-3346-435f-8f77-4fc51139edb5"
      },
      "execution_count": 45,
      "outputs": [
        {
          "output_type": "stream",
          "name": "stdout",
          "text": [
            "[[ 0  1  2  3]\n",
            " [ 4  5  6  7]\n",
            " [ 8  9 10 11]\n",
            " [12 13 14 15]]\n",
            "{'first_row': array([[0, 1, 2, 3]])}\n",
            "{'last_column': array([[ 3],\n",
            "       [ 7],\n",
            "       [11],\n",
            "       [15]])}\n",
            "{'sub_arr': array([[ 5,  6],\n",
            "       [ 9, 10]])}\n"
          ]
        }
      ]
    },
    {
      "cell_type": "code",
      "source": [
        "# 5 . Add a 1D array [1,2,3] to each row of a 3×3 matrix.\n",
        "import numpy as np\n",
        "\n",
        "arr = np.array([1,2,3])\n",
        "oneD = arr.reshape(1,3)\n",
        "\n",
        "threeD = np.array([\n",
        "    [11,22,33],\n",
        "    [33,44,55],\n",
        "    [55,66,77]\n",
        "])\n",
        "\n",
        "new_arr = np.append(threeD,oneD,axis=0)\n",
        "print(new_arr)"
      ],
      "metadata": {
        "colab": {
          "base_uri": "https://localhost:8080/"
        },
        "id": "Fc99T9l1NdQ7",
        "outputId": "d35c9a7c-80a9-4f0e-9f56-f274adc18f6e"
      },
      "execution_count": 47,
      "outputs": [
        {
          "output_type": "stream",
          "name": "stdout",
          "text": [
            "[[11 22 33]\n",
            " [33 44 55]\n",
            " [55 66 77]\n",
            " [ 1  2  3]]\n"
          ]
        }
      ]
    },
    {
      "cell_type": "code",
      "source": [
        "# 6 . Given two arrays A and B, compute:\n",
        "# (A + B) / 2\n",
        "\n",
        "\n",
        "# A**2 + B**2\n",
        "import numpy as np\n",
        "A = np.array([11,22,33])\n",
        "B = np.array([33,44,55])\n",
        "SummationAndDivide = (A+B)/2\n",
        "SquareAndSummation = (A**2) + (B**2)\n",
        "print({\"SummationAndDevide\":SummationAndDivide.tolist()})\n",
        "print({\"SquareAndSummation\":SquareAndSummation.tolist()})"
      ],
      "metadata": {
        "colab": {
          "base_uri": "https://localhost:8080/"
        },
        "id": "mLww1ZGFRNV6",
        "outputId": "907f6f99-1ea5-4bf7-97c8-6fea9e8f2c3d"
      },
      "execution_count": 51,
      "outputs": [
        {
          "output_type": "stream",
          "name": "stdout",
          "text": [
            "{'SummationAndDevide': [22.0, 33.0, 44.0]}\n",
            "{'SquareAndSummation': [1210, 2420, 4114]}\n"
          ]
        }
      ]
    }
  ]
}